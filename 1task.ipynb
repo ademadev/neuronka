{
 "cells": [
  {
   "cell_type": "code",
   "execution_count": 1,
   "id": "910bbdac-1070-45d4-af8f-a80c006bb5c1",
   "metadata": {},
   "outputs": [],
   "source": [
    "import numpy as np"
   ]
  },
  {
   "cell_type": "code",
   "execution_count": 6,
   "id": "99f54a4a-1bb2-4f02-91a8-4694881cd664",
   "metadata": {},
   "outputs": [],
   "source": [
    "def convolution2d(image, kernel, stride=1, padding=0):\n",
    "    # Add padding\n",
    "    image_padded = np.pad(image, [(padding, padding), (padding, padding)], mode='constant')\n",
    "    kernel_height, kernel_width = kernel.shape\n",
    "    output_height = (image_padded.shape[0] - kernel_height) // stride + 1\n",
    "    output_width = (image_padded.shape[1] - kernel_width) // stride + 1\n",
    "    output = np.zeros((output_height, output_width))\n",
    "\n",
    "    # Perform convolution\n",
    "    for y in range(0, output_height):\n",
    "        for x in range(0, output_width):\n",
    "            region = image_padded[y * stride:y * stride + kernel_height, x * stride:x * stride + kernel_width]\n",
    "            output[y, x] = np.sum(region * kernel)\n",
    "    \n",
    "    return output"
   ]
  },
  {
   "cell_type": "code",
   "execution_count": 7,
   "id": "eaeef0c8-6a8d-4e84-a293-0c8601786bda",
   "metadata": {},
   "outputs": [
    {
     "name": "stdout",
     "output_type": "stream",
     "text": [
      "Результат свёртки:\n",
      "[[ 0.70942998 -0.03680861 -1.39705612]\n",
      " [ 0.80390121  0.54845093 -0.65183478]\n",
      " [ 0.98115101  1.07533857 -0.14441583]]\n"
     ]
    }
   ],
   "source": [
    "image = np.random.rand(5, 5)  # Входной массив\n",
    "kernel = np.array([[1, 0, -1], [1, 0, -1], [1, 0, -1]])  # Пример ядра\n",
    "result = convolution2d(image, kernel)\n",
    "print(\"Результат свёртки:\")\n",
    "print(result)"
   ]
  },
  {
   "cell_type": "code",
   "execution_count": 8,
   "id": "f7fac3f8-ea9d-440b-aa27-168a035c44da",
   "metadata": {},
   "outputs": [],
   "source": [
    "import matplotlib.pyplot as plt"
   ]
  },
  {
   "cell_type": "code",
   "execution_count": 9,
   "id": "81db2ce9-16b7-4256-8e32-25a51d1789b8",
   "metadata": {},
   "outputs": [
    {
     "data": {
      "text/plain": [
       "<matplotlib.image.AxesImage at 0x1d5a6decbc0>"
      ]
     },
     "execution_count": 9,
     "metadata": {},
     "output_type": "execute_result"
    },
    {
     "data": {
      "image/png": "[encoded data removed]",
      "text/plain": [
       "<Figure size 640x480 with 1 Axes>"
      ]
     },
     "metadata": {},
     "output_type": "display_data"
    }
   ],
   "source": [
    "plt.subplot(1, 2, 1)\n",
    "plt.title(\"Input Image\")\n",
    "plt.imshow(image, cmap=\"gray\")"
   ]
  },
  {
   "cell_type": "code",
   "execution_count": 10,
   "id": "61894456-71f2-4018-8e46-98121bab8b05",
   "metadata": {},
   "outputs": [
    {
     "data": {
      "text/plain": [
       "<matplotlib.image.AxesImage at 0x1d5a6ec6ea0>"
      ]
     },
     "execution_count": 10,
     "metadata": {},
     "output_type": "execute_result"
    },
    {
     "data": {
      "image/png": "[encoded data removed]",
      "text/plain": [
       "<Figure size 640x480 with 1 Axes>"
      ]
     },
     "metadata": {},
     "output_type": "display_data"
    }
   ],
   "source": [
    "plt.subplot(1, 2, 2)\n",
    "plt.title(\"Convolution Result\")\n",
    "plt.imshow(result, cmap=\"gray\")"
   ]
  },
  {
   "cell_type": "code",
   "execution_count": 11,
   "id": "549d6f5e-a35b-4fb8-ac32-1477eb23deaa",
   "metadata": {},
   "outputs": [],
   "source": [
    "plt.show()"
   ]
  },
  {
   "cell_type": "code",
   "execution_count": null,
   "id": "6c12a846-06fb-4bef-8a4e-d0aded9be2e7",
   "metadata": {},
   "outputs": [],
   "source": []
  }
 ],
 "metadata": {
  "kernelspec": {
   "display_name": "Python 3 (ipykernel)",
   "language": "python",
   "name": "python3"
  },
  "language_info": {
   "codemirror_mode": {
    "name": "ipython",
    "version": 3
   },
   "file_extension": ".py",
   "mimetype": "text/x-python",
   "name": "python",
   "nbconvert_exporter": "python",
   "pygments_lexer": "ipython3",
   "version": "3.12.3"
  }
 },
 "nbformat": 4,
 "nbformat_minor": 5
}
