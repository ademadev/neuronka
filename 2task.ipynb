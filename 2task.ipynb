{
 "cells": [
  {
   "cell_type": "code",
   "execution_count": 1,
   "id": "6e5efeb2-4b73-49dd-b7e8-6ea0a65c0b98",
   "metadata": {},
   "outputs": [],
   "source": [
    "import torch\n",
    "from torch import nn\n",
    "from torch.utils.data import DataLoader, TensorDataset\n",
    "from sklearn.model_selection import train_test_split\n",
    "from sklearn.feature_extraction.text import CountVectorizer\n",
    "import numpy as np"
   ]
  },
  {
   "cell_type": "code",
   "execution_count": 2,
   "id": "dd26a3d5-c1f1-4c6e-8289-a17d68d5ce38",
   "metadata": {},
   "outputs": [],
   "source": [
    "# Пример текстов и меток\n",
    "texts = [\"I love this movie\", \"This movie is bad\", \"I really enjoyed this film\", \"Worst movie ever\", \"Great acting\", \"Terrible plot\"]\n",
    "labels = [1, 0, 1, 0, 1, 0]  # 1 - позитивный отзыв, 0 - негативный"
   ]
  },
  {
   "cell_type": "code",
   "execution_count": 3,
   "id": "02c9d803-670e-43c1-bed5-94919799bd5f",
   "metadata": {},
   "outputs": [],
   "source": [
    "# Векторизация текста\n",
    "vectorizer = CountVectorizer(stop_words='english')\n",
    "X = vectorizer.fit_transform(texts).toarray()\n",
    "\n",
    "# Разделим на обучающую и тестовую выборки\n",
    "X_train, X_test, y_train, y_test = train_test_split(X, labels, test_size=0.2, random_state=42)"
   ]
  },
  {
   "cell_type": "code",
   "execution_count": 4,
   "id": "4fd82817-81d5-41f1-b800-ba173da15253",
   "metadata": {},
   "outputs": [],
   "source": [
    "# Преобразуем данные в тензоры\n",
    "X_train_tensor = torch.tensor(X_train, dtype=torch.float32)\n",
    "X_test_tensor = torch.tensor(X_test, dtype=torch.float32)\n",
    "y_train_tensor = torch.tensor(y_train, dtype=torch.long)\n",
    "y_test_tensor = torch.tensor(y_test, dtype=torch.long)\n"
   ]
  },
  {
   "cell_type": "code",
   "execution_count": 5,
   "id": "50e94d7f-a6ee-4a9b-b634-2ad61da174f8",
   "metadata": {},
   "outputs": [],
   "source": [
    "# Создаем датасеты и загрузчики данных\n",
    "train_dataset = TensorDataset(X_train_tensor, y_train_tensor)\n",
    "test_dataset = TensorDataset(X_test_tensor, y_test_tensor)\n",
    "\n",
    "train_loader = DataLoader(train_dataset, batch_size=2, shuffle=True)\n",
    "test_loader = DataLoader(test_dataset, batch_size=2, shuffle=False)"
   ]
  },
  {
   "cell_type": "code",
   "execution_count": null,
   "id": "86b7a97b-17b7-4ffc-ad57-606931e4a4b4",
   "metadata": {},
   "outputs": [],
   "source": [
    "# Создадим простую нейронную сеть с одним скрытым слоем для классификации текста."
   ]
  },
  {
   "cell_type": "code",
   "execution_count": 6,
   "id": "8ac6aaf1-28bb-4ddb-bb34-16b5d8406a0b",
   "metadata": {},
   "outputs": [],
   "source": [
    "class SimpleNN(nn.Module):\n",
    "    def __init__(self, input_size, hidden_size, output_size):\n",
    "        super(SimpleNN, self).__init__()\n",
    "        self.fc1 = nn.Linear(input_size, hidden_size)  # Скрытый слой\n",
    "        self.fc2 = nn.Linear(hidden_size, output_size)  # Выходной слой\n",
    "        self.relu = nn.ReLU()\n",
    "        self.softmax = nn.Softmax(dim=1)\n",
    "\n",
    "    def forward(self, x):\n",
    "        x = self.relu(self.fc1(x))  # Применяем ReLU к первому слою\n",
    "        x = self.fc2(x)  # Пропускаем через второй слой\n",
    "        return self.softmax(x)  # Softmax для многоклассовой классификации (или 2 класса)\n"
   ]
  },
  {
   "cell_type": "code",
   "execution_count": 7,
   "id": "98d7e158-b31d-422f-9c4e-1c040e6325a7",
   "metadata": {},
   "outputs": [
    {
     "name": "stdout",
     "output_type": "stream",
     "text": [
      "Epoch [1/20], Loss: 0.6959, Accuracy: 0.5000\n",
      "Epoch [2/20], Loss: 0.6945, Accuracy: 0.5000\n",
      "Epoch [3/20], Loss: 0.6934, Accuracy: 0.5000\n",
      "Epoch [4/20], Loss: 0.6918, Accuracy: 0.5000\n",
      "Epoch [5/20], Loss: 0.6905, Accuracy: 0.5000\n",
      "Epoch [6/20], Loss: 0.6895, Accuracy: 0.5000\n",
      "Epoch [7/20], Loss: 0.6880, Accuracy: 0.5000\n",
      "Epoch [8/20], Loss: 0.6870, Accuracy: 0.5000\n",
      "Epoch [9/20], Loss: 0.6855, Accuracy: 0.5000\n",
      "Epoch [10/20], Loss: 0.6842, Accuracy: 0.5000\n",
      "Epoch [11/20], Loss: 0.6830, Accuracy: 0.5000\n",
      "Epoch [12/20], Loss: 0.6816, Accuracy: 0.5000\n",
      "Epoch [13/20], Loss: 0.6804, Accuracy: 0.5000\n",
      "Epoch [14/20], Loss: 0.6791, Accuracy: 0.5000\n",
      "Epoch [15/20], Loss: 0.6778, Accuracy: 0.5000\n",
      "Epoch [16/20], Loss: 0.6767, Accuracy: 0.5000\n",
      "Epoch [17/20], Loss: 0.6751, Accuracy: 0.5000\n",
      "Epoch [18/20], Loss: 0.6738, Accuracy: 0.5000\n",
      "Epoch [19/20], Loss: 0.6725, Accuracy: 0.7500\n",
      "Epoch [20/20], Loss: 0.6713, Accuracy: 1.0000\n"
     ]
    }
   ],
   "source": [
    "# Параметры модели\n",
    "input_size = X_train.shape[1]  # Размерность входных данных\n",
    "hidden_size = 10  # Количество нейронов в скрытом слое\n",
    "output_size = 2  # Два класса (позитивный и негативный)\n",
    "\n",
    "# Инициализация модели\n",
    "model = SimpleNN(input_size, hidden_size, output_size)\n",
    "\n",
    "# Определим функцию потерь и оптимизатор\n",
    "criterion = nn.CrossEntropyLoss()  # Функция потерь для классификации\n",
    "optimizer = torch.optim.Adam(model.parameters(), lr=0.001)\n",
    "\n",
    "# Обучение модели\n",
    "epochs = 20\n",
    "for epoch in range(epochs):\n",
    "    model.train()\n",
    "    running_loss = 0.0\n",
    "    correct = 0\n",
    "    total = 0\n",
    "    \n",
    "    for inputs, labels in train_loader:\n",
    "        optimizer.zero_grad()  # Обнуляем градиенты\n",
    "        outputs = model(inputs)  # Получаем прогнозы\n",
    "        loss = criterion(outputs, labels)  # Вычисляем потерю\n",
    "        loss.backward()  # Обратный проход\n",
    "        optimizer.step()  # Шаг оптимизации\n",
    "\n",
    "        running_loss += loss.item()\n",
    "\n",
    "        # Преобразуем выходные данные в классы\n",
    "        _, predicted = torch.max(outputs, 1)\n",
    "        total += labels.size(0)\n",
    "        correct += (predicted == labels).sum().item()\n",
    "\n",
    "    print(f\"Epoch [{epoch+1}/{epochs}], Loss: {running_loss/len(train_loader):.4f}, Accuracy: {correct/total:.4f}\")\n"
   ]
  },
  {
   "cell_type": "code",
   "execution_count": 8,
   "id": "663f8c03-97bc-4132-8626-27f7e5e3a283",
   "metadata": {},
   "outputs": [],
   "source": [
    "# Оценка модели"
   ]
  },
  {
   "cell_type": "code",
   "execution_count": 9,
   "id": "ff087d2f-4459-40d0-9b93-7004b5593b30",
   "metadata": {},
   "outputs": [
    {
     "name": "stdout",
     "output_type": "stream",
     "text": [
      "Test Accuracy: 0.5000\n"
     ]
    }
   ],
   "source": [
    "# Оценка модели на тестовой выборке\n",
    "model.eval()  # Переводим модель в режим оценки\n",
    "correct = 0\n",
    "total = 0\n",
    "with torch.no_grad():  # Не нужно вычислять градиенты\n",
    "    for inputs, labels in test_loader:\n",
    "        outputs = model(inputs)\n",
    "        _, predicted = torch.max(outputs, 1)\n",
    "        total += labels.size(0)\n",
    "        correct += (predicted == labels).sum().item()\n",
    "\n",
    "print(f\"Test Accuracy: {correct/total:.4f}\")\n"
   ]
  },
  {
   "cell_type": "code",
   "execution_count": null,
   "id": "47b001e2-4ee5-4280-bcff-28bead7e1c3e",
   "metadata": {},
   "outputs": [],
   "source": []
  }
 ],
 "metadata": {
  "kernelspec": {
   "display_name": "Python 3 (ipykernel)",
   "language": "python",
   "name": "python3"
  },
  "language_info": {
   "codemirror_mode": {
    "name": "ipython",
    "version": 3
   },
   "file_extension": ".py",
   "mimetype": "text/x-python",
   "name": "python",
   "nbconvert_exporter": "python",
   "pygments_lexer": "ipython3",
   "version": "3.12.3"
  }
 },
 "nbformat": 4,
 "nbformat_minor": 5
}
